{
 "cells": [
  {
   "cell_type": "code",
   "execution_count": 1,
   "id": "a641d7c7",
   "metadata": {},
   "outputs": [],
   "source": [
    "from os import listdir\n",
    "from os.path import isfile, join\n",
    "import os\n",
    "import shutil\n",
    "from glob import glob"
   ]
  },
  {
   "cell_type": "code",
   "execution_count": 2,
   "id": "64b7a6f5",
   "metadata": {},
   "outputs": [],
   "source": [
    "mypath = '../data/processed/rsna256/'"
   ]
  },
  {
   "cell_type": "code",
   "execution_count": 3,
   "id": "2aa25bbc",
   "metadata": {},
   "outputs": [],
   "source": [
    "onlyfiles = [f for f in listdir(mypath) if isfile(join(mypath, f))]\n",
    "chunk_size = 1000\n",
    "num_folders = int(len(onlyfiles) / chunk_size) + 1\n",
    "start = 0"
   ]
  },
  {
   "cell_type": "code",
   "execution_count": 4,
   "id": "f5c950ca",
   "metadata": {
    "scrolled": true
   },
   "outputs": [
    {
     "data": {
      "text/plain": [
       "0"
      ]
     },
     "execution_count": 4,
     "metadata": {},
     "output_type": "execute_result"
    }
   ],
   "source": [
    "len(onlyfiles)"
   ]
  },
  {
   "cell_type": "code",
   "execution_count": 5,
   "id": "56672581",
   "metadata": {},
   "outputs": [
    {
     "data": {
      "text/plain": [
       "1"
      ]
     },
     "execution_count": 5,
     "metadata": {},
     "output_type": "execute_result"
    }
   ],
   "source": [
    "num_folders"
   ]
  },
  {
   "cell_type": "code",
   "execution_count": 6,
   "id": "91037e0f",
   "metadata": {},
   "outputs": [
    {
     "name": "stdout",
     "output_type": "stream",
     "text": [
      "0\n"
     ]
    },
    {
     "ename": "FileExistsError",
     "evalue": "[Errno 17] File exists: '../data/processed/rsna256/0'",
     "output_type": "error",
     "traceback": [
      "\u001b[0;31m---------------------------------------------------------------------------\u001b[0m",
      "\u001b[0;31mFileExistsError\u001b[0m                           Traceback (most recent call last)",
      "Input \u001b[0;32mIn [6]\u001b[0m, in \u001b[0;36m<cell line: 1>\u001b[0;34m()\u001b[0m\n\u001b[1;32m      2\u001b[0m \u001b[38;5;28mprint\u001b[39m(i)\n\u001b[1;32m      3\u001b[0m files_to_move \u001b[38;5;241m=\u001b[39m onlyfiles[start:start\u001b[38;5;241m+\u001b[39mchunk_size]\n\u001b[0;32m----> 4\u001b[0m \u001b[43mos\u001b[49m\u001b[38;5;241;43m.\u001b[39;49m\u001b[43mmkdir\u001b[49m\u001b[43m(\u001b[49m\u001b[38;5;124;43mf\u001b[39;49m\u001b[38;5;124;43m'\u001b[39;49m\u001b[38;5;132;43;01m{\u001b[39;49;00m\u001b[43mmypath\u001b[49m\u001b[38;5;132;43;01m}\u001b[39;49;00m\u001b[38;5;132;43;01m{\u001b[39;49;00m\u001b[43mi\u001b[49m\u001b[38;5;132;43;01m}\u001b[39;49;00m\u001b[38;5;124;43m'\u001b[39;49m\u001b[43m)\u001b[49m\n\u001b[1;32m      5\u001b[0m start \u001b[38;5;241m+\u001b[39m\u001b[38;5;241m=\u001b[39m chunk_size\n\u001b[1;32m      7\u001b[0m \u001b[38;5;28;01mfor\u001b[39;00m file_to_move \u001b[38;5;129;01min\u001b[39;00m files_to_move:\n",
      "\u001b[0;31mFileExistsError\u001b[0m: [Errno 17] File exists: '../data/processed/rsna256/0'"
     ]
    }
   ],
   "source": [
    "for i in range(num_folders):\n",
    "    print(i)\n",
    "    files_to_move = onlyfiles[start:start+chunk_size]\n",
    "    os.mkdir(f'{mypath}{i}')\n",
    "    start += chunk_size\n",
    "\n",
    "    for file_to_move in files_to_move:\n",
    "        shutil.move(f'{mypath}{file_to_move}' , f'{mypath}{i}/{file_to_move}' )\n",
    "        print(f'{mypath}{file_to_move} moved!')"
   ]
  }
 ],
 "metadata": {
  "kernelspec": {
   "display_name": "breast-cancer-detection",
   "language": "python",
   "name": "breast-cancer-detection"
  },
  "language_info": {
   "codemirror_mode": {
    "name": "ipython",
    "version": 3
   },
   "file_extension": ".py",
   "mimetype": "text/x-python",
   "name": "python",
   "nbconvert_exporter": "python",
   "pygments_lexer": "ipython3",
   "version": "3.10.4"
  }
 },
 "nbformat": 4,
 "nbformat_minor": 5
}
