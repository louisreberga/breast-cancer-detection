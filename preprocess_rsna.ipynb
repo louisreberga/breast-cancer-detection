{
 "cells": [
  {
   "cell_type": "code",
   "execution_count": 1,
   "id": "9fc7ecf9",
   "metadata": {},
   "outputs": [],
   "source": [
    "import os\n",
    "from glob import glob\n",
    "import cv2\n",
    "import matplotlib.pyplot as plt\n",
    "%matplotlib inline\n",
    "import numpy as np\n",
    "from concurrent.futures import ProcessPoolExecutor, ThreadPoolExecutor\n",
    "import pydicom\n",
    "from tqdm import tqdm"
   ]
  },
  {
   "cell_type": "code",
   "execution_count": 2,
   "id": "0f7555a0",
   "metadata": {},
   "outputs": [],
   "source": [
    "input_path = '../data/processed/archive'\n",
    "\n",
    "output_size = 256\n",
    "output_path = f'../data/processed/rsna{output_size}'\n",
    "output_extension = 'png'"
   ]
  },
  {
   "cell_type": "code",
   "execution_count": 3,
   "id": "d8c5b00f",
   "metadata": {},
   "outputs": [],
   "source": [
    "images = [y for x in os.walk(input_path) for y in glob(os.path.join(x[0], f'*.png'))]"
   ]
  },
  {
   "cell_type": "code",
   "execution_count": 4,
   "id": "0ed37a05",
   "metadata": {
    "scrolled": false
   },
   "outputs": [],
   "source": [
    "def process_image(image):\n",
    "    filename = image.split(\"/\")[-1].split('.')[0] \n",
    "    image = cv2.imread(image) \n",
    "    image = cv2.resize(image, (output_size, output_size))\n",
    "    cv2.imwrite(output_path + f\"/{filename}.{output_extension}\", (image * 255).astype(np.uint8))"
   ]
  },
  {
   "cell_type": "code",
   "execution_count": 5,
   "id": "215f39b5",
   "metadata": {},
   "outputs": [],
   "source": [
    "def process_images(images):\n",
    "    with ThreadPoolExecutor(2) as p:\n",
    "        for i in tqdm(p.map(process_image, images), total=len(images)):\n",
    "            pass"
   ]
  },
  {
   "cell_type": "code",
   "execution_count": 6,
   "id": "148931e3",
   "metadata": {},
   "outputs": [
    {
     "name": "stderr",
     "output_type": "stream",
     "text": [
      "100%|████████████████████████████████████| 54706/54706 [02:41<00:00, 338.19it/s]\n"
     ]
    }
   ],
   "source": [
    "process_images(images)"
   ]
  },
  {
   "cell_type": "code",
   "execution_count": null,
   "id": "44fc6c9d",
   "metadata": {},
   "outputs": [],
   "source": []
  }
 ],
 "metadata": {
  "kernelspec": {
   "display_name": "breast-cancer-detection",
   "language": "python",
   "name": "breast-cancer-detection"
  },
  "language_info": {
   "codemirror_mode": {
    "name": "ipython",
    "version": 3
   },
   "file_extension": ".py",
   "mimetype": "text/x-python",
   "name": "python",
   "nbconvert_exporter": "python",
   "pygments_lexer": "ipython3",
   "version": "3.10.4"
  }
 },
 "nbformat": 4,
 "nbformat_minor": 5
}
