{
 "cells": [
  {
   "cell_type": "code",
   "execution_count": 8,
   "id": "5ff02ac8",
   "metadata": {},
   "outputs": [],
   "source": [
    "import pandas as pd"
   ]
  },
  {
   "cell_type": "code",
   "execution_count": 22,
   "id": "09f0913c",
   "metadata": {},
   "outputs": [],
   "source": [
    "file = '../data/processed/rsna.csv'\n",
    "\n",
    "df = pd.read_csv(file)\n",
    "df['file_name'] = df.apply(lambda x: f'{x[\"patient_id\"]}_{x[\"image_id\"]}.jpg', axis=1)\n",
    "df = df.rename({'cancer': 'label'}, axis=1)\n",
    "\n",
    "df[['file_name', 'label']].to_csv('../data/processed/rsna_labels.csv', index=False)"
   ]
  },
  {
   "cell_type": "code",
   "execution_count": null,
   "id": "3d7279fe",
   "metadata": {},
   "outputs": [],
   "source": []
  }
 ],
 "metadata": {
  "kernelspec": {
   "display_name": "breast-cancer-detection",
   "language": "python",
   "name": "breast-cancer-detection"
  },
  "language_info": {
   "codemirror_mode": {
    "name": "ipython",
    "version": 3
   },
   "file_extension": ".py",
   "mimetype": "text/x-python",
   "name": "python",
   "nbconvert_exporter": "python",
   "pygments_lexer": "ipython3",
   "version": "3.10.4"
  }
 },
 "nbformat": 4,
 "nbformat_minor": 5
}
